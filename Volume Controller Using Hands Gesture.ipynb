{
 "cells": [
  {
   "cell_type": "code",
   "execution_count": 2,
   "id": "07769398",
   "metadata": {},
   "outputs": [],
   "source": [
    "import mediapipe as mp\n",
    "import cv2\n",
    "import pyautogui\n",
    "\n",
    "import warnings\n",
    "warnings.filterwarnings(\"ignore\")"
   ]
  },
  {
   "cell_type": "code",
   "execution_count": 3,
   "id": "cfd0eb60",
   "metadata": {},
   "outputs": [],
   "source": [
    "my_hands = mp.solutions.hands.Hands()\n",
    "drawing_utils = mp.solutions.drawing_utils"
   ]
  },
  {
   "cell_type": "code",
   "execution_count": 4,
   "id": "78e52205",
   "metadata": {},
   "outputs": [],
   "source": [
    "x1 = x2 = y1 = y2 = 0"
   ]
  },
  {
   "cell_type": "code",
   "execution_count": 5,
   "id": "9da075c7",
   "metadata": {
    "scrolled": true
   },
   "outputs": [],
   "source": [
    "webcam = cv2.VideoCapture(0)\n",
    "while True:\n",
    "    ret, image = webcam.read()\n",
    "    \n",
    "    # flip the image\n",
    "    image = cv2.flip(image, 1)\n",
    "    frame_height, frame_width, frame_depth = image.shape\n",
    "    \n",
    "    \n",
    "    # Convert BGR to RGB\n",
    "    rgb_image = cv2.cvtColor(image, cv2.COLOR_BGR2RGB)\n",
    "    output = my_hands.process(rgb_image)\n",
    "    \n",
    "    hands = output.multi_hand_landmarks\n",
    "    if hands:\n",
    "        for hand in hands:\n",
    "            drawing_utils.draw_landmarks(image, hand)\n",
    "            landmarks = hand.landmark\n",
    "            for id, landmark in enumerate(landmarks):\n",
    "                \n",
    "                # set x and y\n",
    "                x = int(landmark.x * frame_width)\n",
    "                y = int(landmark.y * frame_height)\n",
    "                \n",
    "                # draw the circle on 2 pointers\n",
    "                if id == 8:\n",
    "                    cv2.circle(img=image, center=(x,y), radius=8, color=(255, 0, 0), thickness=5)\n",
    "                    x1, y1 = x, y\n",
    "\n",
    "                if id == 4:\n",
    "                    cv2.circle(img=image, center=(x,y), radius=8, color=(255, 0, 0), thickness=5)\n",
    "                    x2, y2 = x, y\n",
    "                \n",
    "        # calculate the distance \n",
    "        dist = ((x2-x1)**2 + (y2-y1)**2)**(0.5)//4\n",
    "        \n",
    "        if 15 < dist < 37:\n",
    "            pyautogui.press(\"volumeup\")\n",
    "            \n",
    "            # draw the line between 2 fingers\n",
    "            cv2.line(image, (x1, y1), (x2, y2), (0, 255, 0), 5)\n",
    "            \n",
    "        elif dist < 15:\n",
    "            pyautogui.press(\"volumedown\")\n",
    "            \n",
    "            # draw the line between 2 fingers\n",
    "            cv2.line(image, (x1, y1), (x2, y2), (0, 0, 200), 5)\n",
    "    \n",
    "    # Show the image\n",
    "    cv2.imshow(\"Hand Volume Controller\", image)\n",
    "    if cv2.waitKey(10) & 0xFF == ord('q'):\n",
    "            break\n",
    "\n",
    "webcam.release()\n",
    "cv2.destroyAllWindows()"
   ]
  },
  {
   "cell_type": "code",
   "execution_count": 7,
   "id": "efa0d312",
   "metadata": {},
   "outputs": [],
   "source": [
    "webcam.release()\n",
    "cv2.destroyAllWindows()"
   ]
  },
  {
   "cell_type": "code",
   "execution_count": null,
   "id": "10200bcd",
   "metadata": {},
   "outputs": [],
   "source": []
  }
 ],
 "metadata": {
  "kernelspec": {
   "display_name": "Python 3 (ipykernel)",
   "language": "python",
   "name": "python3"
  },
  "language_info": {
   "codemirror_mode": {
    "name": "ipython",
    "version": 3
   },
   "file_extension": ".py",
   "mimetype": "text/x-python",
   "name": "python",
   "nbconvert_exporter": "python",
   "pygments_lexer": "ipython3",
   "version": "3.11.3"
  }
 },
 "nbformat": 4,
 "nbformat_minor": 5
}
